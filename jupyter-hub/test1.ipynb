{
 "cells": [
  {
   "cell_type": "code",
   "execution_count": null,
   "metadata": {},
   "outputs": [],
   "source": [
    "import pandas as pd\n",
    "import numpy as np\n",
    "import matplotlib.pyplot as plt\n",
    "import seaborn as sns\n",
    "from sklearn.ensemble import RandomForestRegressor\n",
    "import yfinance as yf \n",
    "import matplotlib.pyplot as plt \n",
    "from datetime import datetime \n"
   ]
  },
  {
   "cell_type": "code",
   "execution_count": null,
   "metadata": {},
   "outputs": [],
   "source": [
    "data = pd.read_csv(\"DOGE-USD.csv\")\n",
    "data.head()"
   ]
  },
  {
   "cell_type": "code",
   "execution_count": null,
   "metadata": {},
   "outputs": [],
   "source": [
    "data.corr(numeric_only=True)"
   ]
  },
  {
   "cell_type": "markdown",
   "metadata": {},
   "source": [
    "### Stock Stuff"
   ]
  },
  {
   "cell_type": "code",
   "execution_count": null,
   "metadata": {},
   "outputs": [],
   "source": [
    "data['Date'] = pd.to_datetime(data['Date'])\n",
    "data.set_index('Date', inplace=True)\n",
    "data.isnull().any()"
   ]
  },
  {
   "cell_type": "code",
   "execution_count": null,
   "metadata": {},
   "outputs": [],
   "source": [
    "data = data.dropna()"
   ]
  },
  {
   "cell_type": "code",
   "execution_count": null,
   "metadata": {},
   "outputs": [],
   "source": [
    "data.describe()"
   ]
  },
  {
   "cell_type": "code",
   "execution_count": null,
   "metadata": {},
   "outputs": [],
   "source": [
    "start_date = datetime(2015, 1, 1) \n",
    "end_date = datetime(2024, 11, 15) \n",
    "  \n",
    "# get the data \n",
    "spy_data = yf.download('SPY', start = start_date, end = end_date) \n",
    "msft_data = yf.download('MSFT', start = start_date, end = end_date)\n",
    "aapl_data = yf.download('AAPL', start = start_date, end = end_date)\n",
    "\n",
    "# display \n",
    "#plt.figure(figsize = (20,10)) \n",
    "#plt.title('Opening Prices from {} to {}'.format(start_date, end_date)) \n",
    "#plt.plot(data['Open']) \n",
    "#plt.show()"
   ]
  },
  {
   "cell_type": "code",
   "execution_count": null,
   "metadata": {},
   "outputs": [],
   "source": [
    "display(spy_data.head())\n",
    "display(msft_data.head())\n",
    "display(aapl_data.head())"
   ]
  },
  {
   "cell_type": "code",
   "execution_count": null,
   "metadata": {},
   "outputs": [],
   "source": [
    "adj_close_spy = spy_data[('Adj Close', 'SPY')]\n",
    "percentage_change_spy = adj_close_spy.pct_change()\n",
    "spy_percentage_change_df = pd.DataFrame({('Percent Change', 'SPY'): percentage_change_spy})[1:]\n",
    "spy_percentage_change_df.head()"
   ]
  },
  {
   "cell_type": "code",
   "execution_count": null,
   "metadata": {},
   "outputs": [],
   "source": [
    "adj_close_msft = msft_data[('Adj Close', 'MSFT')]\n",
    "percentage_change_msft = adj_close_msft.pct_change()\n",
    "msft_percentage_change_df = pd.DataFrame({('Percent Change', 'MSFT'): percentage_change_msft})[1:]\n",
    "msft_percentage_change_df.head()"
   ]
  },
  {
   "cell_type": "code",
   "execution_count": null,
   "metadata": {},
   "outputs": [],
   "source": [
    "adj_close_aapl = aapl_data[('Adj Close', 'AAPL')]\n",
    "percentage_change_aapl = adj_close_aapl.pct_change()\n",
    "aapl_percentage_change_df = pd.DataFrame({('Percent Change', 'AAPL'): percentage_change_aapl})[1:]\n",
    "aapl_percentage_change_df.head()"
   ]
  },
  {
   "cell_type": "code",
   "execution_count": 2,
   "metadata": {},
   "outputs": [
    {
     "name": "stderr",
     "output_type": "stream",
     "text": [
      "[*********************100%***********************]  1 of 1 completed\n",
      "[*********************100%***********************]  1 of 1 completed\n",
      "[*********************100%***********************]  1 of 1 completed"
     ]
    },
    {
     "name": "stdout",
     "output_type": "stream",
     "text": [
      "           SPY      MSFT      AAPL\n",
      "SPY   1.000000  0.795771  0.747940\n",
      "MSFT  0.795771  1.000000  0.683163\n",
      "AAPL  0.747940  0.683163  1.000000\n"
     ]
    },
    {
     "name": "stderr",
     "output_type": "stream",
     "text": [
      "\n"
     ]
    }
   ],
   "source": [
    "import pandas as pd\n",
    "import yfinance as yf\n",
    "from datetime import datetime\n",
    "\n",
    "# Define the date range\n",
    "start_date = datetime(2015, 1, 1)\n",
    "end_date = datetime(2024, 11, 15)\n",
    "\n",
    "# Get the data\n",
    "spy_data = yf.download('SPY', start=start_date, end=end_date)\n",
    "msft_data = yf.download('MSFT', start=start_date, end=end_date)\n",
    "aapl_data = yf.download('AAPL', start=start_date, end=end_date)\n",
    "\n",
    "# Calculate the percentage change for 'Adj Close' prices\n",
    "spy_pct_change = spy_data['Adj Close'].pct_change().dropna()\n",
    "msft_pct_change = msft_data['Adj Close'].pct_change().dropna()\n",
    "aapl_pct_change = aapl_data['Adj Close'].pct_change().dropna()\n",
    "\n",
    "# Combine the percentage changes into a single DataFrame using a common index\n",
    "percentage_changes = pd.concat([spy_pct_change, msft_pct_change, aapl_pct_change], axis=1)\n",
    "percentage_changes.columns = ['SPY', 'MSFT', 'AAPL']\n",
    "\n",
    "# Calculate the correlation matrix\n",
    "correlation_matrix = percentage_changes.corr()\n",
    "\n",
    "# Print the correlation matrix\n",
    "print(correlation_matrix)"
   ]
  },
  {
   "cell_type": "code",
   "execution_count": null,
   "metadata": {},
   "outputs": [],
   "source": []
  },
  {
   "cell_type": "code",
   "execution_count": null,
   "metadata": {},
   "outputs": [],
   "source": []
  }
 ],
 "metadata": {
  "kernelspec": {
   "display_name": "Python 3",
   "language": "python",
   "name": "python3"
  },
  "language_info": {
   "codemirror_mode": {
    "name": "ipython",
    "version": 3
   },
   "file_extension": ".py",
   "mimetype": "text/x-python",
   "name": "python",
   "nbconvert_exporter": "python",
   "pygments_lexer": "ipython3",
   "version": "3.12.1"
  }
 },
 "nbformat": 4,
 "nbformat_minor": 2
}
